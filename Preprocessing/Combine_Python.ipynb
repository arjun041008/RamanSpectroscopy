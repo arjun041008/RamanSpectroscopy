{
 "cells": [
  {
   "cell_type": "code",
   "execution_count": 1,
   "id": "12094786-abc0-4f58-8744-ca0fdff61360",
   "metadata": {},
   "outputs": [
    {
     "name": "stdout",
     "output_type": "stream",
     "text": [
      " Combined spectra saved to: combined_raman_spectra (Experimental).xlsx\n"
     ]
    }
   ],
   "source": [
    "import os\n",
    "import pandas as pd\n",
    "\n",
    "\n",
    "folder_path = 'Experimental Sample'  \n",
    "output_excel = 'combined_raman_spectra (Experimental).xlsx'\n",
    "\n",
    "# Initialize the final DataFrame\n",
    "combined_df = pd.DataFrame()\n",
    "\n",
    "# Loop through files\n",
    "for filename in sorted(os.listdir(folder_path)):\n",
    "    if filename.endswith('.txt'):\n",
    "        filepath = os.path.join(folder_path, filename)\n",
    "\n",
    "        # Skip metadata lines starting with '#'\n",
    "        with open(filepath, 'r') as file:\n",
    "            lines = file.readlines()\n",
    "\n",
    "        data_lines = [line for line in lines if not line.startswith('#')]\n",
    "        \n",
    "        # Read the numeric data into a DataFrame\n",
    "        from io import StringIO\n",
    "        data = pd.read_csv(StringIO(''.join(data_lines)), sep=r'\\s+|,', engine='python', header=None)\n",
    "        data.columns = ['Raman Shift', filename]  # Use filename as column header\n",
    "\n",
    "        # Initialize Raman Shift in main DF (only once)\n",
    "        if combined_df.empty:\n",
    "            combined_df['Raman Shift'] = data['Raman Shift']\n",
    "\n",
    "        # Add this file's intensity column\n",
    "        combined_df[filename] = data[filename]\n",
    "\n",
    "# Export to Excel\n",
    "combined_df.to_excel(output_excel, index=False)\n",
    "print(f\" Combined spectra saved to: {output_excel}\")\n"
   ]
  },
  {
   "cell_type": "code",
   "execution_count": null,
   "id": "74ad7da7-e59d-4e9f-a45a-b42f07c61ffb",
   "metadata": {},
   "outputs": [],
   "source": []
  }
 ],
 "metadata": {
  "kernelspec": {
   "display_name": "Python 3 (ipykernel)",
   "language": "python",
   "name": "python3"
  },
  "language_info": {
   "codemirror_mode": {
    "name": "ipython",
    "version": 3
   },
   "file_extension": ".py",
   "mimetype": "text/x-python",
   "name": "python",
   "nbconvert_exporter": "python",
   "pygments_lexer": "ipython3",
   "version": "3.11.7"
  }
 },
 "nbformat": 4,
 "nbformat_minor": 5
}
